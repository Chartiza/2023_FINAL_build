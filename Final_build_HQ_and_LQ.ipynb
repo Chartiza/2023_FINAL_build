{
 "cells": [
  {
   "cell_type": "code",
   "execution_count": 1,
   "metadata": {},
   "outputs": [],
   "source": [
    "# import packages\n",
    "import matplotlib.pyplot as plt\n",
    "import seaborn as sns\n",
    "import pandas as pd\n",
    "import plotly.express as px\n",
    "import plotly.graph_objects as go\n",
    "import plotly.express as px\n",
    "import numpy as np"
   ]
  },
  {
   "cell_type": "code",
   "execution_count": 11,
   "metadata": {},
   "outputs": [
    {
     "name": "stderr",
     "output_type": "stream",
     "text": [
      "/var/folders/fr/j_4kmkcj6zs6nglntg64jfgr0000gn/T/ipykernel_6070/3257442092.py:6: UserWarning: Pandas requires version '1.4.3' or newer of 'xlsxwriter' (version '1.3.1' currently installed).\n",
      "  all_bins.to_excel('results/ALLcl_all_bins_all_info.xlsx', index=False)\n"
     ]
    }
   ],
   "source": [
    "hq_all = pd.read_excel('results/HQcl_all_bins_all_info.xlsx')\n",
    "lq_all = pd.read_excel('results/LQcl_all_bins_all_info.xlsx')\n",
    "\n",
    "# concat hq and lq\n",
    "all_bins = pd.concat([hq_all, lq_all], axis=0).reset_index(drop=True)\n",
    "all_bins.to_excel('results/ALLcl_all_bins_all_info.xlsx', index=False)"
   ]
  },
  {
   "cell_type": "code",
   "execution_count": 12,
   "metadata": {},
   "outputs": [
    {
     "name": "stderr",
     "output_type": "stream",
     "text": [
      "/var/folders/fr/j_4kmkcj6zs6nglntg64jfgr0000gn/T/ipykernel_6070/3085213126.py:6: UserWarning: Pandas requires version '1.4.3' or newer of 'xlsxwriter' (version '1.3.1' currently installed).\n",
      "  all_rep.to_excel('results/ALLcl_representative_MAGs_all_info.xlsx', index=False)\n"
     ]
    }
   ],
   "source": [
    "hq_rep = pd.read_excel('results/HQcl_representative_MAGs_all_info.xlsx')\n",
    "lq_rep = pd.read_excel('results/LQcl_representative_MAGs_all_info.xlsx')\n",
    "\n",
    "# concat hq and lq\n",
    "all_rep = pd.concat([hq_rep, lq_rep], axis=0).reset_index(drop=True)\n",
    "all_rep.to_excel('results/ALLcl_representative_MAGs_all_info.xlsx', index=False)"
   ]
  }
 ],
 "metadata": {
  "kernelspec": {
   "display_name": "Python 3",
   "language": "python",
   "name": "python3"
  },
  "language_info": {
   "codemirror_mode": {
    "name": "ipython",
    "version": 3
   },
   "file_extension": ".py",
   "mimetype": "text/x-python",
   "name": "python",
   "nbconvert_exporter": "python",
   "pygments_lexer": "ipython3",
   "version": "3.8.3"
  }
 },
 "nbformat": 4,
 "nbformat_minor": 2
}
