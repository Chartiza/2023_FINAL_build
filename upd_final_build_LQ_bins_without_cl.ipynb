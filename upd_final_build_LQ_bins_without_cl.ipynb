{
 "cells": [
  {
   "cell_type": "code",
   "execution_count": null,
   "metadata": {},
   "outputs": [],
   "source": [
    "# import packages\n",
    "import matplotlib.pyplot as plt\n",
    "import seaborn as sns\n",
    "import pandas as pd\n",
    "import plotly.express as px\n",
    "import plotly.graph_objects as go\n",
    "import plotly.express as px\n",
    "import numpy as np"
   ]
  },
  {
   "cell_type": "code",
   "execution_count": 13,
   "metadata": {},
   "outputs": [
    {
     "data": {
      "text/html": [
       "<div>\n",
       "<style scoped>\n",
       "    .dataframe tbody tr th:only-of-type {\n",
       "        vertical-align: middle;\n",
       "    }\n",
       "\n",
       "    .dataframe tbody tr th {\n",
       "        vertical-align: top;\n",
       "    }\n",
       "\n",
       "    .dataframe thead th {\n",
       "        text-align: right;\n",
       "    }\n",
       "</style>\n",
       "<table border=\"1\" class=\"dataframe\">\n",
       "  <thead>\n",
       "    <tr style=\"text-align: right;\">\n",
       "      <th></th>\n",
       "      <th>rep_MAG_name</th>\n",
       "      <th>domain</th>\n",
       "      <th>phylum</th>\n",
       "      <th>class</th>\n",
       "      <th>order</th>\n",
       "      <th>family</th>\n",
       "      <th>genus</th>\n",
       "      <th>sp</th>\n",
       "    </tr>\n",
       "  </thead>\n",
       "  <tbody>\n",
       "    <tr>\n",
       "      <th>1596</th>\n",
       "      <td>VZR2LZ_metabat.88.fa</td>\n",
       "      <td>Bacteria</td>\n",
       "      <td>Firmicutes_A</td>\n",
       "      <td>Clostridia</td>\n",
       "      <td>Oscillospirales</td>\n",
       "      <td>Butyricicoccaceae</td>\n",
       "      <td>UBA4644</td>\n",
       "      <td>UBA4644 sp900555855</td>\n",
       "    </tr>\n",
       "    <tr>\n",
       "      <th>1597</th>\n",
       "      <td>VZSQ0C_maxbin.008.fa</td>\n",
       "      <td>Bacteria</td>\n",
       "      <td>Bacteroidota</td>\n",
       "      <td>Bacteroidia</td>\n",
       "      <td>Bacteroidales</td>\n",
       "      <td>Bacteroidaceae</td>\n",
       "      <td>Phocaeicola</td>\n",
       "      <td>Phocaeicola massiliensis</td>\n",
       "    </tr>\n",
       "    <tr>\n",
       "      <th>1598</th>\n",
       "      <td>VZSQ0C_maxbin.009.fa</td>\n",
       "      <td>Bacteria</td>\n",
       "      <td>Bacteroidota</td>\n",
       "      <td>Bacteroidia</td>\n",
       "      <td>Bacteroidales</td>\n",
       "      <td>Bacteroidaceae</td>\n",
       "      <td>Phocaeicola</td>\n",
       "      <td>Phocaeicola sp900760795</td>\n",
       "    </tr>\n",
       "    <tr>\n",
       "      <th>1599</th>\n",
       "      <td>VZWEWM_vamb.248827.fa</td>\n",
       "      <td>Bacteria</td>\n",
       "      <td>Firmicutes_A</td>\n",
       "      <td>Clostridia</td>\n",
       "      <td>Oscillospirales</td>\n",
       "      <td>Oscillospiraceae</td>\n",
       "      <td>CAG-83</td>\n",
       "      <td>CAG-83 sp900548615</td>\n",
       "    </tr>\n",
       "    <tr>\n",
       "      <th>1600</th>\n",
       "      <td>VZY957_maxbin.012.fa</td>\n",
       "      <td>Bacteria</td>\n",
       "      <td>Firmicutes_A</td>\n",
       "      <td>Clostridia</td>\n",
       "      <td>Lachnospirales</td>\n",
       "      <td>Lachnospiraceae</td>\n",
       "      <td>Faecalimonas</td>\n",
       "      <td>Faecalimonas phoceensis</td>\n",
       "    </tr>\n",
       "  </tbody>\n",
       "</table>\n",
       "</div>"
      ],
      "text/plain": [
       "               rep_MAG_name    domain        phylum        class  \\\n",
       "1596   VZR2LZ_metabat.88.fa  Bacteria  Firmicutes_A   Clostridia   \n",
       "1597   VZSQ0C_maxbin.008.fa  Bacteria  Bacteroidota  Bacteroidia   \n",
       "1598   VZSQ0C_maxbin.009.fa  Bacteria  Bacteroidota  Bacteroidia   \n",
       "1599  VZWEWM_vamb.248827.fa  Bacteria  Firmicutes_A   Clostridia   \n",
       "1600   VZY957_maxbin.012.fa  Bacteria  Firmicutes_A   Clostridia   \n",
       "\n",
       "                order             family         genus  \\\n",
       "1596  Oscillospirales  Butyricicoccaceae       UBA4644   \n",
       "1597    Bacteroidales     Bacteroidaceae   Phocaeicola   \n",
       "1598    Bacteroidales     Bacteroidaceae   Phocaeicola   \n",
       "1599  Oscillospirales   Oscillospiraceae        CAG-83   \n",
       "1600   Lachnospirales    Lachnospiraceae  Faecalimonas   \n",
       "\n",
       "                            sp  \n",
       "1596       UBA4644 sp900555855  \n",
       "1597  Phocaeicola massiliensis  \n",
       "1598   Phocaeicola sp900760795  \n",
       "1599        CAG-83 sp900548615  \n",
       "1600   Faecalimonas phoceensis  "
      ]
     },
     "execution_count": 13,
     "metadata": {},
     "output_type": "execute_result"
    }
   ],
   "source": [
    "# READ bacteria taxonomy\n",
    "gt = pd.read_csv('input/LQ_bins_without_cl/bin3_gtdbtk.bac120.summary.tsv', sep='\\t')\n",
    "gt = gt[['user_genome','classification','fastani_ani','closest_placement_reference','closest_placement_ani']]\n",
    "\n",
    "gt['domain'] = gt['classification'].str.split(';', expand=True)[0].str.replace(r'd__', '')\n",
    "gt['phylum'] = gt['classification'].str.split(';', expand=True)[1].str.replace(r'p__', '')\n",
    "gt['class'] = gt['classification'].str.split(';', expand=True)[2].str.replace(r'c__', '')\n",
    "gt['order'] = gt['classification'].str.split(';', expand=True)[3].str.replace(r'o__', '')\n",
    "gt['family'] = gt['classification'].str.split(';', expand=True)[4].str.replace(r'f__', '')\n",
    "gt['genus'] = gt['classification'].str.split(';', expand=True)[5].str.replace(r'g__', '')\n",
    "gt['sp'] = gt['classification'].str.split(';', expand=True)[6].str.replace(r's__', '')\n",
    "gt = gt.drop('classification', axis=1)\n",
    "\n",
    "# rename column genome\n",
    "gt = gt.rename(columns={'user_genome': 'bin_name'})\n",
    "# skip columns \n",
    "gt = gt[['bin_name', 'domain', 'phylum', 'class', 'order', 'family', 'genus', 'sp']]\n",
    "# fill NaN empty values with value\n",
    "gt['sp'] = gt['sp'].replace('', 'undefined')\n",
    "gt['genus'] = gt['genus'].replace('', 'undefined')\n",
    "gt['family'] = gt['family'].replace('', 'undefined')\n",
    "\n",
    "# add fa to rep_MAG_name\n",
    "gt['bin_name'] = gt['bin_name'].astype(str)+'.fa'\n",
    "\n",
    "gt.tail()"
   ]
  },
  {
   "cell_type": "code",
   "execution_count": 12,
   "metadata": {},
   "outputs": [],
   "source": [
    "gtB_bin2 = gt"
   ]
  },
  {
   "cell_type": "code",
   "execution_count": 14,
   "metadata": {},
   "outputs": [
    {
     "name": "stdout",
     "output_type": "stream",
     "text": [
      "1601\n",
      "1202\n",
      "2803\n"
     ]
    }
   ],
   "source": [
    "gtB_bin3 = gt\n",
    "# concat gtA_bin3 and gtA_bin2\n",
    "gtB_all = pd.concat([gtB_bin3, gtB_bin2], axis=0)\n",
    "\n",
    "print(len(gtB_bin3))\n",
    "print(len(gtB_bin2))\n",
    "print(len(gtB_all))"
   ]
  },
  {
   "cell_type": "code",
   "execution_count": 4,
   "metadata": {},
   "outputs": [],
   "source": [
    "gtA_bin2 = gt"
   ]
  },
  {
   "cell_type": "code",
   "execution_count": 6,
   "metadata": {},
   "outputs": [],
   "source": [
    "gtA_bin3 = gt\n",
    "# concat gtA_bin3 and gtA_bin2\n",
    "gtA_all = pd.concat([gtA_bin3, gtA_bin2], axis=0)\n",
    "\n",
    "print(len(gtA_bin3))\n",
    "print(len(gtA_bin2))\n",
    "print(len(gtA_all))"
   ]
  },
  {
   "cell_type": "code",
   "execution_count": 16,
   "metadata": {},
   "outputs": [],
   "source": [
    "# concat Archaea and Bacteria\n",
    "gt_all = pd.concat([gtA_all, gtB_all], axis=0)\n",
    "gt_all.to_excel('results/LQ_bins_without_cl_b2b3.xlsx', index=False)"
   ]
  }
 ],
 "metadata": {
  "kernelspec": {
   "display_name": "Python 3",
   "language": "python",
   "name": "python3"
  },
  "language_info": {
   "codemirror_mode": {
    "name": "ipython",
    "version": 3
   },
   "file_extension": ".py",
   "mimetype": "text/x-python",
   "name": "python",
   "nbconvert_exporter": "python",
   "pygments_lexer": "ipython3",
   "version": "3.8.3"
  }
 },
 "nbformat": 4,
 "nbformat_minor": 2
}
